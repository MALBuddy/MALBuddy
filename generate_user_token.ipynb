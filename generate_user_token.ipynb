{
 "cells": [
  {
   "cell_type": "code",
   "execution_count": 1,
   "metadata": {},
   "outputs": [],
   "source": [
    "import requests\n",
    "import json\n",
    "import secrets\n",
    " \n",
    "client_info_fp = 'client_info.json'"
   ]
  },
  {
   "cell_type": "code",
   "execution_count": 2,
   "metadata": {},
   "outputs": [],
   "source": [
    "with open(client_info_fp) as file:\n",
    "    client_info = json.load(file)\n",
    "CLIENT_ID = client_info['CLIENT_ID']\n",
    "CLIENT_SECRET = client_info['CLIENT_SECRET']"
   ]
  },
  {
   "cell_type": "code",
   "execution_count": 3,
   "metadata": {
    "scrolled": true
   },
   "outputs": [],
   "source": [
    "#PKCE verifier code\n",
    "def get_new_code_verifier() -> str:\n",
    "   token = secrets.token_urlsafe(100)\n",
    "   return token[:128] #128 characters\n"
   ]
  },
  {
   "cell_type": "code",
   "execution_count": 4,
   "metadata": {},
   "outputs": [],
   "source": [
    "#user authorization link (generated code for cell below) \n",
    "def print_auth_link(code_verifier: str):\n",
    "    url = f'https://myanimelist.net/v1/oauth2/authorize?response_type=code&client_id={CLIENT_ID}&code_challenge={code_verifier}'\n",
    "    print(f\"Authorize Here : {url}\\n\")"
   ]
  },
  {
   "cell_type": "code",
   "execution_count": 5,
   "metadata": {},
   "outputs": [],
   "source": [
    "def request_user_token(auth_code : str, code_verifier: str) -> dict:\n",
    "    url = 'https://myanimelist.net/v1/oauth2/token'\n",
    "    data = {\"client_id\": CLIENT_ID,\n",
    "            \"client_secret\": CLIENT_SECRET,\n",
    "            \"code\": auth_code,\n",
    "            \"code_verifier\": code_verifier,\n",
    "            \"grant_type\": \"authorization_code\"\n",
    "           }\n",
    "    resp = requests.post(url, data = data)\n",
    "    resp.raise_for_status() #if 400 reponse error may need to generate new code with above link\n",
    "    token = resp.json()\n",
    "    resp.close()\n",
    "    print('Token generated')\n",
    "    \n",
    "    with open('token.json', 'w') as file:\n",
    "            json.dump(token, file, indent=4)\n",
    "            print('Token saved in \"token.json\"')\n",
    "    return token"
   ]
  },
  {
   "cell_type": "code",
   "execution_count": null,
   "metadata": {},
   "outputs": [],
   "source": [
    "def print_user_info(access_token: str):\n",
    "    url = 'https://api.myanimelist.net/v2/users/@me'\n",
    "    response = requests.get(url, headers = {\n",
    "        'Authorization': f'Bearer {access_token}'\n",
    "        })\n",
    "    \n",
    "    response.raise_for_status()\n",
    "    user = response.json()\n",
    "    response.close()\n",
    "\n",
    "    print(f\"\\n>>> Greetings {user['name']}! <<<\")\n",
    "\n"
   ]
  },
  {
   "cell_type": "code",
   "execution_count": null,
   "metadata": {},
   "outputs": [],
   "source": [
    "code_verifier = get_new_code_verifier()\n",
    "print_auth_link(code_verifier)\n",
    "\n",
    "authorisation_code = input('Copy-paste the Authorisation Code: ').strip()\n",
    "token = request_user_token(authorisation_code, code_verifier)\n",
    "\n",
    "print_user_info(token['access_token'])\n"
   ]
  },
  {
   "cell_type": "code",
   "execution_count": null,
   "metadata": {},
   "outputs": [],
   "source": []
  }
 ],
 "metadata": {
  "kernelspec": {
   "display_name": "Python 3",
   "language": "python",
   "name": "python3"
  },
  "language_info": {
   "codemirror_mode": {
    "name": "ipython",
    "version": 3
   },
   "file_extension": ".py",
   "mimetype": "text/x-python",
   "name": "python",
   "nbconvert_exporter": "python",
   "pygments_lexer": "ipython3",
   "version": "3.8.5"
  }
 },
 "nbformat": 4,
 "nbformat_minor": 4
}
