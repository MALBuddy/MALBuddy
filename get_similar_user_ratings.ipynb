{
 "cells": [
  {
   "cell_type": "code",
   "execution_count": 5,
   "metadata": {},
   "outputs": [],
   "source": [
    "from MALBuddy import MALBuddy\n",
    "import pandas as pd\n",
    "import os\n",
    "import re\n",
    "\n",
    "client_info_filepath = \"client_info.json\"\n",
    "token_filepath = \"token.json\""
   ]
  },
  {
   "cell_type": "code",
   "execution_count": 2,
   "metadata": {},
   "outputs": [],
   "source": [
    "buddy = MALBuddy(client_info_filepath, token_filepath)"
   ]
  },
  {
   "cell_type": "code",
   "execution_count": 3,
   "metadata": {
    "scrolled": true
   },
   "outputs": [
    {
     "data": {
      "text/html": [
       "<div>\n",
       "<style scoped>\n",
       "    .dataframe tbody tr th:only-of-type {\n",
       "        vertical-align: middle;\n",
       "    }\n",
       "\n",
       "    .dataframe tbody tr th {\n",
       "        vertical-align: top;\n",
       "    }\n",
       "\n",
       "    .dataframe thead th {\n",
       "        text-align: right;\n",
       "    }\n",
       "</style>\n",
       "<table border=\"1\" class=\"dataframe\">\n",
       "  <thead>\n",
       "    <tr style=\"text-align: right;\">\n",
       "      <th></th>\n",
       "      <th>id</th>\n",
       "      <th>title</th>\n",
       "      <th>main_picture</th>\n",
       "      <th>status</th>\n",
       "      <th>score</th>\n",
       "      <th>num_episodes_watched</th>\n",
       "      <th>is_rewatching</th>\n",
       "      <th>updated_at</th>\n",
       "      <th>finish_date</th>\n",
       "      <th>start_date</th>\n",
       "    </tr>\n",
       "  </thead>\n",
       "  <tbody>\n",
       "    <tr>\n",
       "      <th>0</th>\n",
       "      <td>41457</td>\n",
       "      <td>86</td>\n",
       "      <td>{'medium': 'https://api-cdn.myanimelist.net/im...</td>\n",
       "      <td>dropped</td>\n",
       "      <td>0</td>\n",
       "      <td>0</td>\n",
       "      <td>False</td>\n",
       "      <td>2021-05-02T00:36:51+00:00</td>\n",
       "      <td>NaN</td>\n",
       "      <td>NaN</td>\n",
       "    </tr>\n",
       "    <tr>\n",
       "      <th>1</th>\n",
       "      <td>22199</td>\n",
       "      <td>Akame ga Kill!</td>\n",
       "      <td>{'medium': 'https://api-cdn.myanimelist.net/im...</td>\n",
       "      <td>completed</td>\n",
       "      <td>8</td>\n",
       "      <td>24</td>\n",
       "      <td>False</td>\n",
       "      <td>2019-02-26T07:05:44+00:00</td>\n",
       "      <td>NaN</td>\n",
       "      <td>NaN</td>\n",
       "    </tr>\n",
       "    <tr>\n",
       "      <th>2</th>\n",
       "      <td>41433</td>\n",
       "      <td>Akudama Drive</td>\n",
       "      <td>{'medium': 'https://api-cdn.myanimelist.net/im...</td>\n",
       "      <td>dropped</td>\n",
       "      <td>0</td>\n",
       "      <td>7</td>\n",
       "      <td>False</td>\n",
       "      <td>2020-12-28T21:14:38+00:00</td>\n",
       "      <td>NaN</td>\n",
       "      <td>NaN</td>\n",
       "    </tr>\n",
       "    <tr>\n",
       "      <th>3</th>\n",
       "      <td>22729</td>\n",
       "      <td>Aldnoah.Zero</td>\n",
       "      <td>{'medium': 'https://api-cdn.myanimelist.net/im...</td>\n",
       "      <td>completed</td>\n",
       "      <td>6</td>\n",
       "      <td>12</td>\n",
       "      <td>False</td>\n",
       "      <td>2018-08-07T02:05:12+00:00</td>\n",
       "      <td>NaN</td>\n",
       "      <td>NaN</td>\n",
       "    </tr>\n",
       "    <tr>\n",
       "      <th>4</th>\n",
       "      <td>27655</td>\n",
       "      <td>Aldnoah.Zero 2nd Season</td>\n",
       "      <td>{'medium': 'https://api-cdn.myanimelist.net/im...</td>\n",
       "      <td>dropped</td>\n",
       "      <td>0</td>\n",
       "      <td>11</td>\n",
       "      <td>False</td>\n",
       "      <td>2018-08-07T01:31:22+00:00</td>\n",
       "      <td>NaN</td>\n",
       "      <td>NaN</td>\n",
       "    </tr>\n",
       "  </tbody>\n",
       "</table>\n",
       "</div>"
      ],
      "text/plain": [
       "      id                    title  \\\n",
       "0  41457                       86   \n",
       "1  22199           Akame ga Kill!   \n",
       "2  41433            Akudama Drive   \n",
       "3  22729             Aldnoah.Zero   \n",
       "4  27655  Aldnoah.Zero 2nd Season   \n",
       "\n",
       "                                        main_picture     status  score  \\\n",
       "0  {'medium': 'https://api-cdn.myanimelist.net/im...    dropped      0   \n",
       "1  {'medium': 'https://api-cdn.myanimelist.net/im...  completed      8   \n",
       "2  {'medium': 'https://api-cdn.myanimelist.net/im...    dropped      0   \n",
       "3  {'medium': 'https://api-cdn.myanimelist.net/im...  completed      6   \n",
       "4  {'medium': 'https://api-cdn.myanimelist.net/im...    dropped      0   \n",
       "\n",
       "   num_episodes_watched  is_rewatching                 updated_at finish_date  \\\n",
       "0                     0          False  2021-05-02T00:36:51+00:00         NaN   \n",
       "1                    24          False  2019-02-26T07:05:44+00:00         NaN   \n",
       "2                     7          False  2020-12-28T21:14:38+00:00         NaN   \n",
       "3                    12          False  2018-08-07T02:05:12+00:00         NaN   \n",
       "4                    11          False  2018-08-07T01:31:22+00:00         NaN   \n",
       "\n",
       "  start_date  \n",
       "0        NaN  \n",
       "1        NaN  \n",
       "2        NaN  \n",
       "3        NaN  \n",
       "4        NaN  "
      ]
     },
     "execution_count": 3,
     "metadata": {},
     "output_type": "execute_result"
    }
   ],
   "source": [
    "user = 'chocopieeater'\n",
    "anime_list = buddy.get_anime_list(user)\n",
    "anime_list.head()"
   ]
  },
  {
   "cell_type": "code",
   "execution_count": 4,
   "metadata": {
    "scrolled": false
   },
   "outputs": [
    {
     "data": {
      "text/plain": [
       "0                                                     86\n",
       "1                                         Akame ga Kill!\n",
       "2                                          Akudama Drive\n",
       "3                                           Aldnoah.Zero\n",
       "4                                Aldnoah.Zero 2nd Season\n",
       "                             ...                        \n",
       "211                     Yakusoku no Neverland 2nd Season\n",
       "212                                          Youjo Senki\n",
       "213                                       Youjo Senki II\n",
       "214                                    Youjo Senki Movie\n",
       "215    Youkoso Jitsuryoku Shijou Shugi no Kyoushitsu ...\n",
       "Name: title, Length: 216, dtype: object"
      ]
     },
     "execution_count": 4,
     "metadata": {},
     "output_type": "execute_result"
    }
   ],
   "source": [
    "watched_titles = anime_list['title']\n",
    "watched_titles\n"
   ]
  },
  {
   "cell_type": "code",
   "execution_count": 10,
   "metadata": {},
   "outputs": [
    {
     "data": {
      "text/plain": [
       "'Akame ga Kill!'"
      ]
     },
     "execution_count": 10,
     "metadata": {},
     "output_type": "execute_result"
    }
   ],
   "source": [
    "anime = watched_titles[1]\n",
    "anime"
   ]
  },
  {
   "cell_type": "code",
   "execution_count": 11,
   "metadata": {},
   "outputs": [],
   "source": [
    "title = re.sub(' ', '_', anime.lower())"
   ]
  },
  {
   "cell_type": "code",
   "execution_count": 12,
   "metadata": {},
   "outputs": [
    {
     "data": {
      "text/plain": [
       "'akame_ga_kill!'"
      ]
     },
     "execution_count": 12,
     "metadata": {},
     "output_type": "execute_result"
    }
   ],
   "source": [
    "title"
   ]
  },
  {
   "cell_type": "code",
   "execution_count": 13,
   "metadata": {},
   "outputs": [],
   "source": [
    "title = re.sub('\\W', '', title)"
   ]
  },
  {
   "cell_type": "code",
   "execution_count": 14,
   "metadata": {},
   "outputs": [
    {
     "data": {
      "text/plain": [
       "'akame_ga_kill'"
      ]
     },
     "execution_count": 14,
     "metadata": {},
     "output_type": "execute_result"
    }
   ],
   "source": [
    "title"
   ]
  },
  {
   "cell_type": "code",
   "execution_count": 15,
   "metadata": {
    "scrolled": true
   },
   "outputs": [
    {
     "name": "stdout",
     "output_type": "stream",
     "text": [
      "Successfully loaded pages: : 1,2,3,\n",
      "Ratings saved to anime_ratings\\akame_ga_kill.json \n"
     ]
    }
   ],
   "source": [
    "akame = buddy.generate_and_write_ratings(title, num_pages=3)"
   ]
  },
  {
   "cell_type": "code",
   "execution_count": 1,
   "metadata": {},
   "outputs": [
    {
     "ename": "NameError",
     "evalue": "name 'buddy' is not defined",
     "output_type": "error",
     "traceback": [
      "\u001b[1;31m---------------------------------------------------------------------------\u001b[0m",
      "\u001b[1;31mNameError\u001b[0m                                 Traceback (most recent call last)",
      "\u001b[1;32m<ipython-input-1-a743915a7f9c>\u001b[0m in \u001b[0;36m<module>\u001b[1;34m\u001b[0m\n\u001b[1;32m----> 1\u001b[1;33m \u001b[0mbuddy\u001b[0m\u001b[1;33m.\u001b[0m\u001b[0mload_ratings\u001b[0m\u001b[1;33m(\u001b[0m\u001b[0mtitle\u001b[0m\u001b[1;33m)\u001b[0m\u001b[1;33m\u001b[0m\u001b[1;33m\u001b[0m\u001b[0m\n\u001b[0m",
      "\u001b[1;31mNameError\u001b[0m: name 'buddy' is not defined"
     ]
    }
   ],
   "source": [
    "buddy.load_ratings(title)"
   ]
  },
  {
   "cell_type": "code",
   "execution_count": 3,
   "metadata": {},
   "outputs": [],
   "source": [
    "#TODO allow writing over and updating json files when generating new ratings from MAL"
   ]
  }
 ],
 "metadata": {
  "kernelspec": {
   "display_name": "Python 3",
   "language": "python",
   "name": "python3"
  },
  "language_info": {
   "codemirror_mode": {
    "name": "ipython",
    "version": 3
   },
   "file_extension": ".py",
   "mimetype": "text/x-python",
   "name": "python",
   "nbconvert_exporter": "python",
   "pygments_lexer": "ipython3",
   "version": "3.8.5"
  }
 },
 "nbformat": 4,
 "nbformat_minor": 4
}
