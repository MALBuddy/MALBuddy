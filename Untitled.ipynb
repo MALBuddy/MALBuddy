{
 "cells": [
  {
   "cell_type": "code",
   "execution_count": 7,
   "id": "141deec9",
   "metadata": {},
   "outputs": [],
   "source": [
    "from MALToken import MALToken"
   ]
  },
  {
   "cell_type": "code",
   "execution_count": 8,
   "id": "e581e2b8",
   "metadata": {},
   "outputs": [],
   "source": [
    "token = MALToken('client_info.json')"
   ]
  },
  {
   "cell_type": "code",
   "execution_count": 9,
   "id": "55f95a6e",
   "metadata": {
    "scrolled": true
   },
   "outputs": [
    {
     "name": "stdout",
     "output_type": "stream",
     "text": [
      "Authorize Here : https://myanimelist.net/v1/oauth2/authorize?response_type=code&client_id=b86965f2d19d8cb2e587519170794328&code_challenge=B8cGJZhJMzfhP6yBJh4QCvwSq0JRNn5qJM-b8BcQZbEMHFgccTAiMmwuHPZrsm7iNDFshdCc9sbjbifLpH-1kErp9czhAjNCOhrV74SlOBzA7ZMGCion1Mg4y8lM00zL\n",
      "\n",
      "You must first authenticate your MyAnimeList account in order to to make requests on behalf of the account. Please login to this link and copy-paste the Authorisation Code and the end of the url.  (eg http://localhost/oauth?code={YOUR AUTHORIZATION CODE}: def50200a0c5d0d4a45c533360967b3bc346fa79a3c1bf70aac6bad2d2cde3d10b9412bfd88d0928c536ff8eda8a304c1ce696213be8160a17ae68fb999f7c17d5578f9f214df5ed1d7d5cc6edde02575e7fb809b89062fde3fa771c6ade43220a377f8ec642b07d3d5b49fc1f5fcf1962778e85859d643a5cae2ffaae730f336896519db8daaddda5120dea91c2aa63e2686b01eabef017706fd7bc6b4d4f9a8fa9f4f535bf469e4c0047ac1f0fe186adec33f29e254ee27a3668836d98149c3f256433101ccd5de0570b22959e0805a3e202fa07d51d5d4f8ba2d4258dd72f48d176cc976867cb35f207eaf238a35a6be630420fc14d355893bc8c569a5105f2b63589f1efc997181e2f1003b1e2ebfada1d72895ac0c11625ec82d3c8c9ceb51a9c614fdb75302b4cbad9e26dadb4fb8cf36242687c2a044a7fe78bcc878cf76588630ac29445eb37c81f05b2bafd41d8955945a3bf7b64b069dc32009705b8efdcfbf27dd6e5887563d34f1e1472bee3d915e2af703e834b92965c03728d1eb676e0623b02964ac964db01ebd128efd0e0caddae7baefe12fa5da22141ce3a5824970b5f2db85a29eeece4b99a0b20b04da21b7206755a1c3a1ab06c7a58891d1728805ec63cd8926514ca88c1fc2ad60d06d138ffcf8c3eb1d52231bcf02e7688d3a930ae90e6\n",
      "Token generated\n",
      "Token saved in \"token.json\"\n",
      "\n",
      ">>> Greetings chocopieeater! <<<\n"
     ]
    }
   ],
   "source": [
    "token.generate_user_token()"
   ]
  },
  {
   "cell_type": "code",
   "execution_count": null,
   "id": "33bfe80d",
   "metadata": {},
   "outputs": [],
   "source": []
  },
  {
   "cell_type": "code",
   "execution_count": null,
   "id": "e83a9cf6",
   "metadata": {},
   "outputs": [],
   "source": []
  }
 ],
 "metadata": {
  "kernelspec": {
   "display_name": "Python 3",
   "language": "python",
   "name": "python3"
  },
  "language_info": {
   "codemirror_mode": {
    "name": "ipython",
    "version": 3
   },
   "file_extension": ".py",
   "mimetype": "text/x-python",
   "name": "python",
   "nbconvert_exporter": "python",
   "pygments_lexer": "ipython3",
   "version": "3.8.12"
  }
 },
 "nbformat": 4,
 "nbformat_minor": 5
}
